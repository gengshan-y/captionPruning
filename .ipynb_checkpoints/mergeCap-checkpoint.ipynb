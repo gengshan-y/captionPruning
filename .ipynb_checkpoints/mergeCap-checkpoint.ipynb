{
 "cells": [
  {
   "cell_type": "code",
   "execution_count": 1,
   "metadata": {
    "collapsed": false
   },
   "outputs": [],
   "source": [
    "import os\n",
    "from processCapLib import *\n",
    "import logInit  #  order doesn't matter"
   ]
  },
  {
   "cell_type": "code",
   "execution_count": 2,
   "metadata": {
    "collapsed": false
   },
   "outputs": [],
   "source": [
    "inpath = '/home/gengshan/public_html/data/Caps_before/'\n",
    "# outpath = '/home/gengshan/public_html/data/Caps_merge_split/'\n",
    "# outpath = '/home/gengshan/public_html/data/Caps_merge_split_1margin/'\n",
    "outpath = '/home/gengshan/public_html/data/Caps_merge_split_.5margin/'\n",
    "logpath = '/home/gengshan/workJul/mergeCap/log/log_'"
   ]
  },
  {
   "cell_type": "code",
   "execution_count": 3,
   "metadata": {
    "collapsed": false
   },
   "outputs": [
    {
     "name": "stdout",
     "output_type": "stream",
     "text": [
      "{'stream': <open file '/home/gengshan/workJul/mergeCap/log/log_07_19_15_58', mode 'a' at 0x7fb41b83e390>, 'encoding': None, 'lock': <_RLock owner=None count=0>, 'level': 10, '_name': None, 'delay': 0, 'baseFilename': '/home/gengshan/workJul/mergeCap/log/log_07_19_15_58', 'mode': 'a', 'filters': [], 'formatter': <logging.Formatter object at 0x7fb41b2280d0>}\n"
     ]
    }
   ],
   "source": [
    "logger = logInit.makeLogger(logpath)\n",
    "os.system('cp ' + inpath + '* ' + outpath)  # copy first\n",
    "os.system('chmod a+w ' + outpath + '*')  # and make it writable for web interface\n",
    "listIgnore = ['1eHR1Kopsus.en.vtt']  # this contains no uppercase\n",
    "it = 0\n",
    "\n",
    "for filename in os.listdir(inpath):\n",
    "    if it == 700:\n",
    "        break\n",
    "    if filename in listIgnore:\n",
    "        it += 1\n",
    "        continue\n",
    "    it += 1\n",
    "    \n",
    "    with open (inpath + filename) as capFile:\n",
    "        ''' Process a new caption '''\n",
    "        logger.info(str(it) + '[#' + vid2Num(filename.split('.')[0]) + ']: ' + inpath + filename + '\\n')\n",
    "        caps = capFile.readlines()\n",
    "              \n",
    "        ''' create dictionary '''\n",
    "        capPairs = creatDict(caps)\n",
    "        \n",
    "        ''' merge broken sentences to the previous ones. Also clear empty caps '''\n",
    "        capPairs = merge2sents(capPairs)\n",
    "    \n",
    "        ''' split text on sentence '''\n",
    "        capPairs = split2sents(capPairs)\n",
    "        \n",
    "        ''' filter short clips '''\n",
    "        capPairs = filterByTime(capPairs, 0.5)\n",
    "        \n",
    "        ''' add 1s margins '''\n",
    "        capPairs = addMargin(capPairs, 0.5)\n",
    "        \n",
    "        ''' dump to another path '''\n",
    "        dumpVTT(outpath + filename, capPairs)\n",
    "\n",
    "logger.handlers[0].close()"
   ]
  },
  {
   "cell_type": "code",
   "execution_count": null,
   "metadata": {
    "collapsed": true
   },
   "outputs": [],
   "source": []
  }
 ],
 "metadata": {
  "kernelspec": {
   "display_name": "Python 2",
   "language": "python",
   "name": "python2"
  },
  "language_info": {
   "codemirror_mode": {
    "name": "ipython",
    "version": 2
   },
   "file_extension": ".py",
   "mimetype": "text/x-python",
   "name": "python",
   "nbconvert_exporter": "python",
   "pygments_lexer": "ipython2",
   "version": "2.7.6"
  }
 },
 "nbformat": 4,
 "nbformat_minor": 0
}
