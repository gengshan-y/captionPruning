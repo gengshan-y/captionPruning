{
 "cells": [
  {
   "cell_type": "code",
   "execution_count": null,
   "metadata": {
    "collapsed": true
   },
   "outputs": [],
   "source": [
    "#################### iterator in py #########################"
   ]
  },
  {
   "cell_type": "code",
   "execution_count": null,
   "metadata": {
    "collapsed": true
   },
   "outputs": [],
   "source": [
    "## reversed() will create a iterator, but list() will copy\n",
    "a = [1,2,4,8]\n",
    "for it, itt in reversed(list(enumerate(a))):\n",
    "    print str(it)\n",
    "    print str(itt)\n",
    "    a[it - 1] += itt\n",
    "    a.pop(it)\n",
    "    print str(a)"
   ]
  },
  {
   "cell_type": "code",
   "execution_count": null,
   "metadata": {
    "collapsed": true
   },
   "outputs": [],
   "source": [
    "##################### logging module ########################"
   ]
  },
  {
   "cell_type": "code",
   "execution_count": 1,
   "metadata": {
    "collapsed": true
   },
   "outputs": [],
   "source": [
    "# std.err stream for ipynb logging seems blocked on gpu1. Use file logging instead.\n",
    "# use RootLogger will get some error in logging file. Create another logger instead.\n",
    "# even print() stucks ...\n",
    "# ----> upgrading pyzmp solved the issue\n",
    "# ----> so here we go\n",
    "import logging"
   ]
  },
  {
   "cell_type": "code",
   "execution_count": 2,
   "metadata": {
    "collapsed": false
   },
   "outputs": [
    {
     "name": "stdout",
     "output_type": "stream",
     "text": [
      "[<logging.StreamHandler object at 0x7fb1cabf91d0>]\n",
      "30\n",
      "WARNING\n",
      "0\n",
      "NOTSET\n"
     ]
    }
   ],
   "source": [
    "''' Console logging '''\n",
    "logger = logging.getLogger()  # get the root logger\n",
    "print logger.__dict__['handlers']  # it has a console stream handler when initialized\n",
    "\n",
    "logging.debug('debug')  # shoot a debug in console\n",
    "logging.warning('warning')  # shoot a warning in console\n",
    "# oops, no debug appears, let's see\n",
    "print logger.__dict__['level']  # the logger level seems too high\n",
    "print logging.getLevelName(30)  # it means WARNING level\n",
    "print logger.handlers[0].__dict__['level']  # the level seems too low\n",
    "print logging.getLevelName(0)  # it means NOT set"
   ]
  },
  {
   "cell_type": "code",
   "execution_count": 3,
   "metadata": {
    "collapsed": true
   },
   "outputs": [],
   "source": [
    "logger.handlers[0].setLevel(logging.DEBUG)  # try to set stream-level to lowest\n",
    "logging.debug('debug')  # still not working"
   ]
  },
  {
   "cell_type": "code",
   "execution_count": 4,
   "metadata": {
    "collapsed": true
   },
   "outputs": [],
   "source": [
    "logger.setLevel(logging.DEBUG)\n",
    "logging.debug('debug')  # now it works"
   ]
  },
  {
   "cell_type": "code",
   "execution_count": 5,
   "metadata": {
    "collapsed": true
   },
   "outputs": [],
   "source": [
    "logger.handlers[0].setLevel(logging.INFO)  # try to set stream-level higher\n",
    "logging.debug('debug')  # now stopped working"
   ]
  },
  {
   "cell_type": "code",
   "execution_count": 6,
   "metadata": {
    "collapsed": false
   },
   "outputs": [
    {
     "name": "stdout",
     "output_type": "stream",
     "text": [
      "10\n",
      "20\n"
     ]
    }
   ],
   "source": [
    "print logger.__dict__['level']  \n",
    "print logger.handlers[0].__dict__['level']  \n",
    "# now i suspect the logger level controls the stream level\n",
    "# we may want to set the logger level to the lowest, and use the stream-level to control"
   ]
  },
  {
   "cell_type": "code",
   "execution_count": 7,
   "metadata": {
    "collapsed": false
   },
   "outputs": [
    {
     "name": "stdout",
     "output_type": "stream",
     "text": [
      "[<logging.StreamHandler object at 0x7fb1cabf91d0>, <logging.FileHandler object at 0x7fb1c82b8a10>]\n"
     ]
    }
   ],
   "source": [
    "''' File logging '''\n",
    "dbgFileHandler = logging.FileHandler('/home/gengshan/log.log')  # construct a file stream\n",
    "dbgFileHandler.setLevel(logging.DEBUG)  # set to lowest level\n",
    "logger.addHandler(dbgFileHandler)  # add stream to logger\n",
    "\n",
    "print logger.__dict__['handlers']  # now it has two handlers\n",
    "# we can also filter messages with different loggers, by logging.getLogger('XXname'), but not used in this case "
   ]
  },
  {
   "cell_type": "code",
   "execution_count": 9,
   "metadata": {
    "collapsed": false
   },
   "outputs": [
    {
     "name": "stdout",
     "output_type": "stream",
     "text": [
      "10\n",
      "20\n",
      "10\n"
     ]
    }
   ],
   "source": [
    "print logger.__dict__['level']  \n",
    "print logger.handlers[0].__dict__['level']  \n",
    "print logger.handlers[1].__dict__['level']  "
   ]
  },
  {
   "cell_type": "code",
   "execution_count": 10,
   "metadata": {
    "collapsed": true
   },
   "outputs": [],
   "source": [
    "logger.debug('we started debugging')  # use logger interchangably, now debug will only appear in file, but not in consule\n",
    "logger.info('this in a public message')  # we can see info in both streams"
   ]
  },
  {
   "cell_type": "code",
   "execution_count": 18,
   "metadata": {
    "collapsed": false
   },
   "outputs": [
    {
     "name": "stdout",
     "output_type": "stream",
     "text": [
      "{'datefmt': None, '_fmt': '%(levelname)s:%(name)s:%(message)s'}\n",
      "None\n"
     ]
    }
   ],
   "source": [
    "''' Set format '''\n",
    "print logger.handlers[0].__dict__['formatter'].__dict__  # now we can make more detailed, take a look at the current formatter\n",
    "print logger.handlers[1].__dict__['formatter']"
   ]
  },
  {
   "cell_type": "code",
   "execution_count": 24,
   "metadata": {
    "collapsed": false
   },
   "outputs": [
    {
     "name": "stdout",
     "output_type": "stream",
     "text": [
      "{'datefmt': None, '_fmt': '%(asctime)s - %(levelname)s - %(message)s'}\n",
      "{'datefmt': None, '_fmt': '%(asctime)s - %(levelname)s - %(message)s'}\n"
     ]
    }
   ],
   "source": [
    "logger.handlers[0].setFormatter(logging.Formatter('%(asctime)s - %(levelname)s - %(message)s'))\n",
    "logger.handlers[1].setFormatter(logging.Formatter('%(asctime)s - %(levelname)s - %(message)s'))\n",
    "print logger.handlers[0].__dict__['formatter'].__dict__  # now we can make more detailed, take a look at the current formatter\n",
    "print logger.handlers[1].__dict__['formatter'].__dict__"
   ]
  },
  {
   "cell_type": "code",
   "execution_count": 25,
   "metadata": {
    "collapsed": true
   },
   "outputs": [],
   "source": [
    "logger.info('this in a new public message')  # now we can do more with it"
   ]
  },
  {
   "cell_type": "code",
   "execution_count": 11,
   "metadata": {
    "collapsed": true
   },
   "outputs": [],
   "source": [
    "dbgFileHandler.close()  # though cannot stop logger writing to file, still a good habit"
   ]
  },
  {
   "cell_type": "code",
   "execution_count": null,
   "metadata": {
    "collapsed": true
   },
   "outputs": [],
   "source": []
  }
 ],
 "metadata": {
  "kernelspec": {
   "display_name": "Python 2",
   "language": "python",
   "name": "python2"
  },
  "language_info": {
   "codemirror_mode": {
    "name": "ipython",
    "version": 2
   },
   "file_extension": ".py",
   "mimetype": "text/x-python",
   "name": "python",
   "nbconvert_exporter": "python",
   "pygments_lexer": "ipython2",
   "version": "2.7.6"
  }
 },
 "nbformat": 4,
 "nbformat_minor": 0
}
