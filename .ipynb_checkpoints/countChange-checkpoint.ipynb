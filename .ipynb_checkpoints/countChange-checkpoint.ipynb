{
 "cells": [
  {
   "cell_type": "code",
   "execution_count": null,
   "metadata": {
    "collapsed": true
   },
   "outputs": [],
   "source": [
    "with open('log.txt') as f:\n",
    "    lines = f.readlines()\n",
    "\n",
    "    ''' before merge '''\n",
    "    befSplit = 0\n",
    "    for line in lines:\n",
    "        if line[0:17] == 'len before merge:':\n",
    "            befSplit += int(line[17:])\n",
    "    print str(befSplit)\n",
    "    \n",
    "    ''' after merge '''\n",
    "    befSplit = 0\n",
    "    for line in lines:\n",
    "        if line[0:16] == 'len after merge:':\n",
    "            befSplit += int(line[16:])\n",
    "    print str(befSplit)\n",
    "\n",
    "    ''' before split '''\n",
    "    befSplit = 0\n",
    "    for line in lines:\n",
    "        if line[0:17] == 'len before split:':\n",
    "            befSplit += int(line[17:])\n",
    "    print str(befSplit)\n",
    "    \n",
    "    ''' after split '''\n",
    "    befSplit = 0\n",
    "    for line in lines:\n",
    "        if line[0:16] == 'len after split:':\n",
    "            befSplit += int(line[16:])\n",
    "    print str(befSplit)"
   ]
  }
 ],
 "metadata": {
  "kernelspec": {
   "display_name": "Python 2",
   "language": "python",
   "name": "python2"
  },
  "language_info": {
   "codemirror_mode": {
    "name": "ipython",
    "version": 2
   },
   "file_extension": ".py",
   "mimetype": "text/x-python",
   "name": "python",
   "nbconvert_exporter": "python",
   "pygments_lexer": "ipython2",
   "version": "2.7.6"
  }
 },
 "nbformat": 4,
 "nbformat_minor": 0
}
