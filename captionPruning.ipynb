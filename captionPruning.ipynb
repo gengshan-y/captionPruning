{
 "cells": [
  {
   "cell_type": "code",
   "execution_count": 1,
   "metadata": {
    "collapsed": false
   },
   "outputs": [],
   "source": [
    "import os\n",
    "from processCapLib import *\n",
    "from vidRetrieve import *  # to retrieve title from id\n",
    "import logInit  #  order doesn't matter"
   ]
  },
  {
   "cell_type": "code",
   "execution_count": 2,
   "metadata": {
    "collapsed": false
   },
   "outputs": [],
   "source": [
    "inpath = '/home/gengshan/public_html/data/Caps_before/'\n",
    "outpath = '/home/gengshan/public_html/data/Caps_wrt_Tessa/'\n",
    "logpath = '/home/gengshan/workJul/captionPruning/log/log_'\n",
    "listOri = [1, 5, 8, 11]   # video to keep unchanged\n",
    "listRm = [6, 13, 14, 22, 266]  # videos to remove\n",
    "listMergeSplit_500ms = [12, 29]  # use .5s margin, otherwise dont use margin\n",
    "pairBegShift = {2: -1.5, 15: -0.5, 16: -0.5, 17: -0.5, 18: -2, 21: -1, 23: -0.5,\\\n",
    "                24: -0.5, 25: -0.5, 27: -1, 54: -1, 129: -0.5, 184: -1, 452: -0.5}  # shift begining time  \n",
    "pairEndShift = {2: -1.5, 18: -2}  # shift ending time"
   ]
  },
  {
   "cell_type": "code",
   "execution_count": 8,
   "metadata": {
    "collapsed": false
   },
   "outputs": [
    {
     "name": "stdout",
     "output_type": "stream",
     "text": [
      "{'stream': <open file '/home/gengshan/workJul/captionPruning/log/log_08_05_22_04', mode 'a' at 0x7fc344482e40>, 'encoding': None, 'lock': <_RLock owner=None count=0>, 'level': 10, '_name': None, 'delay': 0, 'baseFilename': '/home/gengshan/workJul/captionPruning/log/log_08_05_22_04', 'mode': 'a', 'filters': [], 'formatter': <logging.Formatter object at 0x7fc3443c8b10>}\n"
     ]
    }
   ],
   "source": [
    "logger = logInit.makeLogger(logpath)\n",
    "os.system('cp ' + inpath + '* ' + outpath)  # copy first\n",
    "os.system('chmod a+w ' + outpath + '*')  # and make it writable for web interface\n",
    "\n",
    "for it, filename in enumerate(os.listdir(inpath)):\n",
    "    # if it == 10:  # test code\n",
    "    #     break\n",
    "    \n",
    "    vidIdx = title2idx(filename[:-7])\n",
    "        \n",
    "    if filename[-7:] != '.en.vtt':\n",
    "        logger.info('omit ' + filename)\n",
    "        continue  # remove captions in other languages\n",
    "        \n",
    "    if vidIdx in listOri:\n",
    "        logger.info('keep ' + filename + ' unchanged...')\n",
    "        continue\n",
    "        \n",
    "    if vidIdx in listRm:\n",
    "        os.system('rm ' + outpath + filename)\n",
    "        logger.info('rm ' + outpath + filename)\n",
    "        continue\n",
    "    \n",
    "    with open (inpath + filename) as capFile:\n",
    "        ''' Process a new caption '''\n",
    "        logger.info(str(it) + '[#' + str(title2idx(filename.split('.')[0])) + ']: ' + inpath + filename + '\\n')\n",
    "        caps = capFile.readlines()\n",
    "        \n",
    "        ''' create dictionary '''\n",
    "        capPairs = creatDict(caps)\n",
    "        \n",
    "        ''' remove speaker names and special patterns '''\n",
    "        capPairs = rmNameBefColon(capPairs)\n",
    "        capPairs = rmPattern(capPairs)\n",
    "        \n",
    "        ''' clean empty subtitles '''\n",
    "        capPairs = filterByLength(capPairs)\n",
    "        \n",
    "        ''' merge broken sentences to the previous ones. Also clear empty caps '''\n",
    "        capPairs = merge2sents(capPairs)\n",
    "    \n",
    "        ''' split text on sentence '''\n",
    "        capPairs = split2sents(capPairs)\n",
    "        \n",
    "        ''' filter short clips '''\n",
    "        capPairs = filterByTime(capPairs, 0.5)\n",
    "        \n",
    "        ''' add margins '''\n",
    "        if vidIdx in listMergeSplit_500ms:\n",
    "            capPairs = addMargin(capPairs, 0.5)\n",
    "        \n",
    "        ''' shift time stamps '''\n",
    "        if vidIdx in pairBegShift.keys():\n",
    "            capPairs = shiftBeg(capPairs, pairBegShift[vidIdx])\n",
    "        if vidIdx in pairEndShift.keys():\n",
    "            capPairs = shiftEnd(capPairs, pairEndShift[vidIdx])\n",
    "        \n",
    "        ''' dump to another path '''\n",
    "        dumpVTT(outpath + filename, capPairs)\n",
    "\n",
    "logger.handlers[0].close()"
   ]
  }
 ],
 "metadata": {
  "kernelspec": {
   "display_name": "Python 2",
   "language": "python",
   "name": "python2"
  },
  "language_info": {
   "codemirror_mode": {
    "name": "ipython",
    "version": 2
   },
   "file_extension": ".py",
   "mimetype": "text/x-python",
   "name": "python",
   "nbconvert_exporter": "python",
   "pygments_lexer": "ipython2",
   "version": "2.7.6"
  }
 },
 "nbformat": 4,
 "nbformat_minor": 0
}
